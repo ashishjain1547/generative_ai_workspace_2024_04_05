{
 "cells": [
  {
   "cell_type": "code",
   "execution_count": 1,
   "metadata": {},
   "outputs": [
    {
     "name": "stdout",
     "output_type": "stream",
     "text": [
      "Hindish (Romanized): mera naam Ashish hai\n",
      "Devanagari: आप Hinglish2Hindi: mera naam Ashish hai தீ தீ தீ தீ தீ தீ தீ தீ தீ தீ தீ தீ தீ தீ தீ தீ தீ தீ தீ தீ தீ தீ தீ தீ தீ தீ தீ தீ தீ தீ தீ தீ தீ தீ தீ தீ தீ தீ தீ தீ தீ आप Ashish hai‚‚‚‚ Hinglllllllllllllllllllllllll: mera na आप Ash Ash Ash Ash Ash Ash Ash Ash Ash Ash Ash Ashish hai आप आप आप आप आप आप आप आप आप आप आप आप आप आप आप आप आप आप आप आप आप आप आप आप आप आप आप आप आप आप आप आप आप आप आप आप आप आप आप आप आप आप आप आप आप आप आप आप आप आप आप आप आप आप आप आप आप आप आप आप आप आप आप आप आप आप आप आप आप आप आप आप आप आप आप आप आप आप आप आप आप आप आप आप आप आप आप आप आप आप आप आप आप आप आप आप आप आप आप आप आप आप आप आप आप आप आप आप आप आप आप आप आप आप आप आप आप आप आप आप आप आप आप आप आप आप आप आप आप आप आप आप आप आप आप आप आप आप आप आप आप आप आप आप आप आप आप आप आप आप आप आप आप आप आप आप आप आप आप आप आप आप आप आप आप आप आप आप आप आप आप आप आप आप आप आप आप आप आप आप आप आप आप आप आप आप आप आप आप आप आप आप आप आप आप आप आप आप आप आप आप आप आप आप आप आप आप आप आप आप आप आप आप आप आप आप आप आप आप आप आप आप आप आप आप आप आप आप आप आप आप आप आप आप आप आप आप आप आप आप आप आप आप आप आप आप आप आप आप आप आप आप आप आप आप आप आप आप आप आप आप आप आप आप आप आप आप आप आप आप आप आप आप आप आप आप आप आप आप आप आप आप आप आप आप आप आप आप आप आप आप आप आप आप आप आप आप आप आप आप आप आप आप आप आप आप आप आप आप आप आप आप आप आप आप आप आप आप आप आप आप आप आप आप आप आप आप आप आप आप आप आप आप आप आप आप आप आप आप आप आप आप आप आप आप आप आप आप आप आप आप आप आप आप आप आप आप आप आप आप आप आप आप आप आप आप आप आप आप आप आप आप आप आप आप आप आप आप आप आप आप आप आप आप आप आप आप आप आप आप आप आप आप आप आप आप आप आप\n"
     ]
    }
   ],
   "source": [
    "from transformers import AutoTokenizer, AutoModelForSeq2SeqLM\n",
    "\n",
    "# Load the IndicBARTSS model and tokenizer\n",
    "model_name = \"ai4bharat/IndicBARTSS\"\n",
    "tokenizer = AutoTokenizer.from_pretrained(model_name, use_fast=False)  # Ensure SentencePiece is used\n",
    "model = AutoModelForSeq2SeqLM.from_pretrained(model_name)\n",
    "\n",
    "# Function to transliterate Hindish (Romanized Hindi) to Devanagari\n",
    "def transliterate_to_devanagari(hindish_text):\n",
    "    # Prepend language prefix (required for IndicBARTSS)\n",
    "    input_text = f\"Hinglish2Hindi: {hindish_text}\"\n",
    "    \n",
    "    # Tokenize the input\n",
    "    inputs = tokenizer(input_text, return_tensors=\"pt\", max_length=512, truncation=True)\n",
    "    # Remove token_type_ids if present\n",
    "    inputs.pop(\"token_type_ids\", None)\n",
    "    \n",
    "    # Generate output\n",
    "    outputs = model.generate(**inputs, max_length=512, num_beams=5, early_stopping=True)\n",
    "    \n",
    "    # Decode the output\n",
    "    transliterated_text = tokenizer.decode(outputs[0], skip_special_tokens=True)\n",
    "    return transliterated_text\n",
    "\n",
    "# Example usage\n",
    "hindish_text = \"mera naam Ashish hai\"\n",
    "devanagari_output = transliterate_to_devanagari(hindish_text)\n",
    "\n",
    "print(\"Hindish (Romanized):\", hindish_text)\n",
    "print(\"Devanagari:\", devanagari_output)"
   ]
  },
  {
   "cell_type": "code",
   "execution_count": null,
   "metadata": {},
   "outputs": [],
   "source": []
  }
 ],
 "metadata": {
  "kernelspec": {
   "display_name": "hf_202412",
   "language": "python",
   "name": "python3"
  },
  "language_info": {
   "codemirror_mode": {
    "name": "ipython",
    "version": 3
   },
   "file_extension": ".py",
   "mimetype": "text/x-python",
   "name": "python",
   "nbconvert_exporter": "python",
   "pygments_lexer": "ipython3",
   "version": "3.12.8"
  }
 },
 "nbformat": 4,
 "nbformat_minor": 2
}
