{
 "cells": [
  {
   "cell_type": "markdown",
   "metadata": {
    "colab_type": "text",
    "id": "view-in-github"
   },
   "source": [
    "<a href=\"https://colab.research.google.com/github/ashishjain1547/generative_ai_workspace_2024_04_05/blob/main/2_zero_shot_classifier_for_sentiment_analysis.ipynb\" target=\"_parent\"><img src=\"https://colab.research.google.com/assets/colab-badge.svg\" alt=\"Open In Colab\"/></a>"
   ]
  },
  {
   "cell_type": "code",
   "execution_count": null,
   "metadata": {
    "id": "kcIGh_BdY80c"
   },
   "outputs": [],
   "source": [
    "from transformers import pipeline\n",
    "\n",
    "# Load the zero-shot classification pipeline with BERT\n",
    "classifier = pipeline(\"zero-shot-classification\", model=\"bert-base-uncased\")\n",
    "\n",
    "# Define a list of texts for sentiment analysis\n",
    "texts = [\n",
    "    \"I love this product, it's amazing!\",\n",
    "    \"This movie was terrible, I hated it.\",\n",
    "    \"The weather today is fantastic.\",\n",
    "    \"I feel neutral about this situation.\"\n",
    "]\n",
    "\n",
    "# Define the possible labels/categories for sentiment\n",
    "candidate_labels = [\"positive\", \"negative\", \"neutral\"]\n",
    "\n",
    "# Perform zero-shot sentiment analysis\n",
    "results = classifier(texts, candidate_labels)\n",
    "\n",
    "# Print the results\n",
    "for i, text in enumerate(texts):\n",
    "    print(f\"Text: {text}\")\n",
    "    print(\"Sentiment probabilities:\")\n",
    "    for label, score in zip(results[i]['labels'], results[i]['scores']):\n",
    "        print(f\"{label}: {score:.4f}\")\n",
    "    print()"
   ]
  },
  {
   "cell_type": "code",
   "execution_count": null,
   "metadata": {},
   "outputs": [],
   "source": []
  }
 ],
 "metadata": {
  "colab": {
   "authorship_tag": "ABX9TyMdK6wTFeO/qz61HCm6QAHe",
   "include_colab_link": true,
   "provenance": []
  },
  "kernelspec": {
   "display_name": "Python 3 (ipykernel)",
   "language": "python",
   "name": "python3"
  },
  "language_info": {
   "codemirror_mode": {
    "name": "ipython",
    "version": 3
   },
   "file_extension": ".py",
   "mimetype": "text/x-python",
   "name": "python",
   "nbconvert_exporter": "python",
   "pygments_lexer": "ipython3",
   "version": "3.9.13"
  }
 },
 "nbformat": 4,
 "nbformat_minor": 4
}
