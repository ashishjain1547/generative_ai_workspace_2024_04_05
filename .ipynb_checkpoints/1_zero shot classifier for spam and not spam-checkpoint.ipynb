{
 "cells": [
  {
   "cell_type": "code",
   "execution_count": null,
   "metadata": {
    "id": "y7ecTE-WRcto"
   },
   "outputs": [],
   "source": [
    "from transformers import pipeline\n",
    "def classify_text (email):\n",
    "    \"\"\"\n",
    "    Use Facebook's BART model to classify an email into \"spam\" or \"not spam\"\n",
    "    Args:\n",
    "    email (str): The email to classify\n",
    "    Returns:\n",
    "    str: The classification of the email\n",
    "    \"\"\"\n",
    "\n",
    "    classifier = pipeline('zero-shot-classification', model='facebook/bart-large-mnli')\n",
    "    labels = ['spam', 'not spam']\n",
    "    hypothesis_template = 'This email is {}.'\n",
    "    results = classifier(email, labels, hypothesis_template=hypothesis_template)\n",
    "    return results['labels'][0]"
   ]
  }
 ],
 "metadata": {
  "colab": {
   "authorship_tag": "ABX9TyMdK6wTFeO/qz61HCm6QAHe",
   "include_colab_link": true,
   "provenance": []
  },
  "kernelspec": {
   "display_name": "Python 3 (ipykernel)",
   "language": "python",
   "name": "python3"
  },
  "language_info": {
   "codemirror_mode": {
    "name": "ipython",
    "version": 3
   },
   "file_extension": ".py",
   "mimetype": "text/x-python",
   "name": "python",
   "nbconvert_exporter": "python",
   "pygments_lexer": "ipython3",
   "version": "3.9.13"
  }
 },
 "nbformat": 4,
 "nbformat_minor": 4
}
