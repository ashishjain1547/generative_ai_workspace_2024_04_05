{
 "cells": [
  {
   "cell_type": "code",
   "execution_count": 9,
   "metadata": {},
   "outputs": [],
   "source": [
    "import json\n",
    "\n",
    "with open('../../../api_keys.json', mode = 'r') as f:\n",
    "    api_keys = json.load(f)"
   ]
  },
  {
   "cell_type": "code",
   "execution_count": 14,
   "metadata": {},
   "outputs": [
    {
     "name": "stdout",
     "output_type": "stream",
     "text": [
      "Hello! How can I help you today?\n",
      "\n"
     ]
    }
   ],
   "source": [
    "import google.generativeai as genai\n",
    "import gradio as gr\n",
    "import pathlib\n",
    "\n",
    "# Configure with your API key\n",
    "genai.configure(api_key=api_keys['KeshavPawar'])\n",
    "\n",
    "# Initialize Gemini model (ensure the model identifier is correct)\n",
    "# model = genai.GenerativeModel('models/gemini-1.5-flash')\n",
    "model = genai.GenerativeModel('models/gemini-2.0-flash')\n",
    "\n",
    "# Generate content using the Gemini model\n",
    "response = model.generate_content([\"Hello\"])\n",
    "print(response.text)\n"
   ]
  },
  {
   "cell_type": "code",
   "execution_count": 12,
   "metadata": {},
   "outputs": [
    {
     "name": "stdout",
     "output_type": "stream",
     "text": [
      "* Running on local URL:  http://127.0.0.1:7860\n",
      "\n",
      "To create a public link, set `share=True` in `launch()`.\n"
     ]
    },
    {
     "data": {
      "text/html": [
       "<div><iframe src=\"http://127.0.0.1:7860/\" width=\"100%\" height=\"500\" allow=\"autoplay; camera; microphone; clipboard-read; clipboard-write;\" frameborder=\"0\" allowfullscreen></iframe></div>"
      ],
      "text/plain": [
       "<IPython.core.display.HTML object>"
      ]
     },
     "metadata": {},
     "output_type": "display_data"
    },
    {
     "data": {
      "text/plain": []
     },
     "execution_count": 12,
     "metadata": {},
     "output_type": "execute_result"
    }
   ],
   "source": [
    "# Function to process and transcribe audio\n",
    "def transcribe_audio(audio_path):\n",
    "    if not audio_path:\n",
    "        return \"No audio provided. Please try again.\"\n",
    "\n",
    "    try:\n",
    "        # Read audio file as binary data\n",
    "        audio_data = pathlib.Path(audio_path).read_bytes()\n",
    "\n",
    "        # Define prompt for Gemini\n",
    "        prompt = \"Please summarize the audio.\"\n",
    "\n",
    "        # Send audio data to Gemini model\n",
    "        response = model.generate_content([\n",
    "            prompt,\n",
    "            {\n",
    "                \"mime_type\": \"audio/ogg; codecs=opus\",  # Opus format\n",
    "                \"data\": audio_data\n",
    "            }\n",
    "        ])\n",
    "\n",
    "        return response.text\n",
    "\n",
    "    except Exception as e:\n",
    "        return f\"Error processing audio: {str(e)}\"\n",
    "\n",
    "# Create Gradio interface\n",
    "interface = gr.Interface(\n",
    "    fn=transcribe_audio,\n",
    "    inputs=gr.Audio(sources=[\"microphone\", \"upload\"], type=\"filepath\"),\n",
    "    outputs=gr.Textbox(label=\"Transcription/Summary\", lines=4),\n",
    "    title=\"🎙️ Voice-to-Text with Gemini\",\n",
    "    description=\"Record or upload an Opus (.ogg) file to get a transcription or summary.\"\n",
    ")\n",
    "\n",
    "# Launch the interface\n",
    "interface.launch()\n"
   ]
  },
  {
   "cell_type": "code",
   "execution_count": 13,
   "metadata": {},
   "outputs": [
    {
     "name": "stdout",
     "output_type": "stream",
     "text": [
      "Closing server running on port: 7860\n"
     ]
    }
   ],
   "source": [
    "interface.close()"
   ]
  },
  {
   "cell_type": "code",
   "execution_count": null,
   "metadata": {},
   "outputs": [],
   "source": []
  }
 ],
 "metadata": {
  "kernelspec": {
   "display_name": "hf_202412",
   "language": "python",
   "name": "hf_202412"
  },
  "language_info": {
   "codemirror_mode": {
    "name": "ipython",
    "version": 3
   },
   "file_extension": ".py",
   "mimetype": "text/x-python",
   "name": "python",
   "nbconvert_exporter": "python",
   "pygments_lexer": "ipython3",
   "version": "3.12.8"
  }
 },
 "nbformat": 4,
 "nbformat_minor": 2
}
