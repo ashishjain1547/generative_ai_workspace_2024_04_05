{
 "cells": [
  {
   "cell_type": "code",
   "execution_count": 4,
   "metadata": {},
   "outputs": [],
   "source": [
    "from langchain_google_genai import ChatGoogleGenerativeAI\n",
    "\n",
    "import json\n",
    "with open('../api_keys.json', mode = 'r') as f:\n",
    "    api_keys = json.load(f)\n",
    "    \n",
    "# Initialize the client with your API key\n",
    "llm = ChatGoogleGenerativeAI(\n",
    "    model=\"gemini-2.0-flash\",\n",
    "    google_api_key=api_keys['ashishjain1547']\n",
    ")"
   ]
  },
  {
   "cell_type": "code",
   "execution_count": 5,
   "metadata": {},
   "outputs": [
    {
     "name": "stderr",
     "output_type": "stream",
     "text": [
      "USER_AGENT environment variable not set, consider setting it to identify your requests.\n"
     ]
    }
   ],
   "source": [
    "from langgraph.graph import StateGraph, END\n",
    "\n",
    "from langchain_community.document_loaders import WebBaseLoader\n",
    "from langchain.chat_models import ChatOpenAI\n",
    "import os"
   ]
  },
  {
   "cell_type": "code",
   "execution_count": 6,
   "metadata": {},
   "outputs": [],
   "source": [
    "from typing import TypedDict, Annotated\n",
    "class AgentState(TypedDict):\n",
    "    nlq: str\n",
    "    metadata: dict\n",
    "    refined_query: str\n",
    "    further_refined_query: str\n",
    "    feedback: str\n",
    "    itr_count: int"
   ]
  },
  {
   "cell_type": "code",
   "execution_count": 7,
   "metadata": {},
   "outputs": [],
   "source": [
    "import re\n",
    "def extract_triple_quoted_json(response_text):\n",
    "    # This pattern looks for a JSON object (starting with '{' and ending with '}')\n",
    "    # enclosed in either triple double-quotes or triple single-quotes.\n",
    "    pattern = r'(?:\\'\\'\\'|\"\"\")\\s*(\\{.*?\\})\\s*(?:\\'\\'\\'|\"\"\")'\n",
    "    match = re.search(pattern, response_text, re.DOTALL)\n",
    "    if match:\n",
    "        return match.group(1)\n",
    "    return None"
   ]
  },
  {
   "cell_type": "code",
   "execution_count": 14,
   "metadata": {},
   "outputs": [],
   "source": [
    "class ReEngineerQuery:\n",
    "    def __init__(self, model):\n",
    "        self.model = model\n",
    "        \n",
    "        graph = StateGraph(AgentState)\n",
    "\n",
    "\n",
    "        graph.add_node(\"refine_query\", self.refine_query)\n",
    "        graph.add_node(\"evaluate_reengineered_query\", self.evaluate_reengineered_query)\n",
    "        graph.add_node(\"further_refine_query\", self.further_refine_query)\n",
    "\n",
    "        # --- Edges ---\n",
    "\n",
    "\n",
    "        graph.set_entry_point(\"refine_query\")\n",
    "        graph.add_edge(\"refine_query\", \"evaluate_reengineered_query\")\n",
    "        graph.add_edge(\"evaluate_reengineered_query\", \"further_refine_query\")\n",
    "\n",
    "\n",
    "        graph.add_conditional_edges(\n",
    "            \"further_refine_query\", \n",
    "            self.should_continue, \n",
    "            {\"end\": END, \"refine_query\": \"refine_query\"}\n",
    "        )\n",
    "\n",
    "        # Compile the graph and store references\n",
    "        self.graph = graph.compile()\n",
    "\n",
    "        \n",
    "\n",
    "        \n",
    "    \n",
    "    def refine_query(self, state):\n",
    "        META_PROMPT_TO_REENGINEER_NLQ = \"\"\"\n",
    "You are an expert SQLite query generator. Based on the natural language query and the provided table metadata,\n",
    "please reengineer the query to clearly specify:\n",
    "- The specific table(s) that should be referenced,\n",
    "- The calculations or aggregations to perform,\n",
    "- The structure of the final SQL query.\n",
    "\n",
    "NLQ: {nlq}\n",
    "\n",
    "Table Metadata:\n",
    "{metadata}\n",
    "\n",
    "Reengineered Query:\n",
    "\"\"\"\n",
    "\n",
    "        # Build the meta-prompt by substituting the NLQ and metadata.\n",
    "        prompt = META_PROMPT_TO_REENGINEER_NLQ.format(nlq=state.get(\"nlq\", \"\"), metadata=state.get(\"metadata\", \"\"))\n",
    "        # Invoke the LLM with the prompt.\n",
    "        response = self.model(prompt)\n",
    "        # Return the refined query.\n",
    "\n",
    "\n",
    "        return {\"refined_query\": response.strip(), \"itr_count\": state.get(\"itr_count\") + 1}\n",
    "    \n",
    "    def evaluate_reengineered_query(self, state):\n",
    "        EVALUATE_REENGINEERED_QUERY = \"\"\"\n",
    "You are an expert SQLite engineer grading an NLQ for correctness, completeness and clarity. \\\n",
    "Generate critique and recommendations for the NLQ so it can be easily converted to an SQL. \\\n",
    "Please evaluate the reengineered query below:\n",
    "{refined_query}\n",
    "\"\"\"\n",
    "\n",
    "        prompt = EVALUATE_REENGINEERED_QUERY.format(refined_query=state.get(\"refined_query\", \"\"))\n",
    "        response = self.model(prompt)\n",
    "        return {\"feedback\": response.strip()}\n",
    "    \n",
    "    def further_refine_query(self, state):\n",
    "        REENGINEER_QUERY_POST_FEEDBACK = \"\"\"\n",
    "You are an expert SQLite query generator. Based on the natural language query, the provided table metadata and feedback,\n",
    "please reengineer the query based on the feedback given to clearly specify: \n",
    "- The specific table(s) that should be referenced,\n",
    "- The calculations or aggregations to perform,\n",
    "- The structure of the final SQL query.\n",
    "\n",
    "NLQ: {nlq}\n",
    "\n",
    "Table Metadata:\n",
    "{metadata}\n",
    "\n",
    "Feedback:\n",
    "{feedback}\n",
    "\n",
    "Reengineered Query:\n",
    "\"\"\"     # Build the meta-prompt by substituting the NLQ and metadata.\n",
    "        prompt = REENGINEER_QUERY_POST_FEEDBACK.format(nlq=state.get(\"nlq\", \"\"), metadata=state.get(\"metadata\", \"\"),\n",
    "                                                        feedback=state.get(\"feedback\", \"\"))\n",
    "        # Invoke the LLM with the prompt.\n",
    "        response = self.model(prompt)\n",
    "\n",
    "        print(response)\n",
    "\n",
    "\n",
    "        return {\"further_refined_query\": response.strip(), \"itr_count\": state.get(\"itr_count\") + 1}\n",
    "    \n",
    "    def should_continue(self, state):\n",
    "        CHECK_CONSISTENCY = \"\"\"\n",
    "You are an expert database query evaluator. Your task is to evaluate two queries \\\n",
    "if they are consistent and mean the same thing. One query is the last query and the other is the reengineered query. \\\n",
    "\n",
    "Last Query: {refined_query}\n",
    "Reengineered Query: {further_refined_query}\n",
    "\n",
    "Is the reengineered query consistent with the last query? \n",
    "Return a JSON response with the key 'answer': 'yes' or 'no'.\"\"\"\n",
    "        \n",
    "        prompt = CHECK_CONSISTENCY.format(refined_query=state.get(\"refined_query\", \"\"), further_refined_query=state.get(\"further_refined_query\", \"\"))\n",
    "        response = self.model(prompt)\n",
    "\n",
    "        #extract json from the response\n",
    "\n",
    "        print(response)\n",
    "        \n",
    "        json_response = \"{\" + response.split(\"{\")[1].split(\"}\")[0].strip().replace(\"'\", '\"') + \"}\"\n",
    "\n",
    "        json_response = json.loads(json_response)\n",
    "        print(json_response)\n",
    "\n",
    "    \n",
    "        if json_response['answer'] == \"yes\":\n",
    "            return \"end\"\n",
    "        return \"refine_query\""
   ]
  },
  {
   "cell_type": "code",
   "execution_count": 15,
   "metadata": {},
   "outputs": [],
   "source": [
    "class MyGeminiChatModel:\n",
    "    \"\"\"\n",
    "    Minimal wrapper that expects a prompt and returns GPT-3.5 Turbo response text.\n",
    "    \"\"\"\n",
    "    def __init__(self, api_key):\n",
    "        self.client = ChatGoogleGenerativeAI(\n",
    "        model=\"gemini-2.0-flash\",\n",
    "        google_api_key = api_key\n",
    "    )\n",
    "        \n",
    "    def bind_tools(self, tools):\n",
    "        return self  # For compatibility with how TranslatorCriticApp uses .bind_tools\n",
    "\n",
    "    def __call__(self, prompt: str) -> str:\n",
    "        response = llm.invoke(prompt)\n",
    "        return response.content"
   ]
  },
  {
   "cell_type": "code",
   "execution_count": 16,
   "metadata": {},
   "outputs": [],
   "source": [
    "model = MyGeminiChatModel(api_keys[\"ashishjain1547\"])"
   ]
  },
  {
   "cell_type": "code",
   "execution_count": 17,
   "metadata": {},
   "outputs": [],
   "source": [
    "app = ReEngineerQuery(model)"
   ]
  },
  {
   "cell_type": "code",
   "execution_count": 18,
   "metadata": {},
   "outputs": [
    {
     "data": {
      "image/png": "[encoded data removed]",
      "text/plain": [
       "<IPython.core.display.Image object>"
      ]
     },
     "execution_count": 18,
     "metadata": {},
     "output_type": "execute_result"
    }
   ],
   "source": [
    "from IPython.display import Image\n",
    "\n",
    "Image(app.graph.get_graph().draw_png())"
   ]
  },
  {
   "cell_type": "code",
   "execution_count": null,
   "metadata": {},
   "outputs": [
    {
     "name": "stdout",
     "output_type": "stream",
     "text": [
      "```sqlite\n",
      "SELECT * FROM AB_ORDERS WHERE ORDERYEAR = CAST(STRFTIME('%Y', DATE('now', '-1 year')) AS INTEGER)\n",
      "```\n",
      "\n",
      "```json\n",
      "{\n",
      "  \"answer\": \"yes\"\n",
      "}\n",
      "```\n",
      "{'answer': 'yes'}\n"
     ]
    }
   ],
   "source": [
    "messages = []\n",
    "\n",
    "with open('tables.json', mode = 'r') as f:\n",
    "    metadata = json.load(f)\n",
    "\n",
    "nlq = \"Show me the orders from last year.\"\n",
    "refined_query = \"\"\n",
    "further_refined_query = \"\"\n",
    "feedback = \"\"\n",
    "itr_count = 0\n",
    "\n",
    "result = app.graph.invoke({\"nlq\": nlq, \"metadata\": metadata, \"refined_query\": refined_query, \"further_refined_query\": further_refined_query, \"feedback\": feedback, \"itr_count\": itr_count})"
   ]
  },
  {
   "cell_type": "code",
   "execution_count": null,
   "metadata": {},
   "outputs": [],
   "source": []
  }
 ],
 "metadata": {
  "kernelspec": {
   "display_name": "langgraph_202412",
   "language": "python",
   "name": "python3"
  },
  "language_info": {
   "codemirror_mode": {
    "name": "ipython",
    "version": 3
   },
   "file_extension": ".py",
   "mimetype": "text/x-python",
   "name": "python",
   "nbconvert_exporter": "python",
   "pygments_lexer": "ipython3",
   "version": "3.12.7"
  }
 },
 "nbformat": 4,
 "nbformat_minor": 2
}
